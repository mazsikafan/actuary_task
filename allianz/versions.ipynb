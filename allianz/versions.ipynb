{
 "cells": [
  {
   "cell_type": "markdown",
   "id": "461fa8f9",
   "metadata": {},
   "source": [
    "## Joint Shock via EWMA‐Covariance + Eigenvector\n",
    "\n",
    "We estimated the most recent conditional covariance of our Δ-yields using an EWMA (λ=0.94) and extracted the principal eigenvector to define a coherent 1-in-200-year shock. The resulting Δ-rates are:\n",
    "\n",
    "| Tenor | EWMA Up (Δ)    | EWMA Down (Δ)   |\n",
    "|:-----:|--------------:|---------------:|\n",
    "| **3M**   | –0.000265 (–2.65 bp) | +0.000265 (+2.65 bp) |\n",
    "| **6M**   | –0.000213 (–2.13 bp) | +0.000213 (+2.13 bp) |\n",
    "| **1Y**   | –0.000298 (–2.98 bp) | +0.000298 (+2.98 bp) |\n",
    "| **3Y**   | –0.002440 (–24.40 bp) | +0.002440 (+24.40 bp) |\n",
    "| **5Y**   | –0.002763 (–27.63 bp) | +0.002763 (+27.63 bp) |\n",
    "| **10Y**  | –0.002755 (–27.55 bp) | +0.002755 (+27.55 bp) |\n",
    "| **15Y**  | –0.002597 (–25.97 bp) | +0.002597 (+25.97 bp) |\n",
    "\n",
    "**Interpretation:**  \n",
    "- The **belly** of the curve (3Y–10Y) has the largest shocks (~25–28 bp), consistent with medium-tenor volatility peaks.  \n",
    "- **Short rates** (3M–1Y) show smaller shocks (~2–3 bp), reflecting tighter clustering.  \n",
    "- **Long rates** (15Y) lie in between (~26 bp), capturing level moves.  \n",
    "\n",
    "These Δ-rates define our up- and down-shock curves. Next, we’ll apply them to today’s zero curve to price the bond portfolio.\n",
    "\n"
   ]
  },
  {
   "cell_type": "code",
   "execution_count": null,
   "id": "20860999",
   "metadata": {
    "vscode": {
     "languageId": "plaintext"
    }
   },
   "outputs": [],
   "source": [
    "\n",
    "# 1) Build EWMA covariance of df_diff\n",
    "λ = 0.94 # This is from the JPM paper, 1996 and s common choice in financial times series\n",
    "rets = df_diff.values  # shape (T, N)\n",
    "T, N = rets.shape\n",
    "\n",
    "# weights: w_t = (1-λ)*λ^(T-1-t) normalized so sum=1\n",
    "weights = (1-λ) * λ ** np.arange(T-1, -1, -1)\n",
    "weights /= weights.sum()\n",
    "\n",
    "# compute EWMA covariance: H = X' W X\n",
    "# center rets at zero (they're already zero‐mean Δ‐yields)\n",
    "H_ewma = (rets * weights[:, None]).T @ rets  # shape (N,N)\n",
    "\n",
    "# 2) Eigen‐decompose\n",
    "vals, vecs = np.linalg.eigh(H_ewma)\n",
    "idx = np.argmax(vals)\n",
    "λ_max = vals[idx]\n",
    "e_max = vecs[:, idx]\n",
    "\n",
    "# 3) 1-in-200 quantile constant\n",
    "c = stats.chi2.ppf(0.995, df=N)\n",
    "\n",
    "# 4) Shock vectors\n",
    "shock_mag   = np.sqrt(c * λ_max)\n",
    "delta_up    =  shock_mag * e_max\n",
    "delta_down  = -shock_mag * e_max\n",
    "\n",
    "# Package into a DataFrame\n",
    "shocks_ewma = pd.DataFrame({\n",
    "    \"ewma_up\":   delta_up,\n",
    "    \"ewma_down\": delta_down\n",
    "}, index=df_diff.columns).round(6)\n",
    "\n",
    "print(\"EWMA‐based joint shocks (Δ yields):\")\n",
    "print(shocks_ewma)\n"
   ]
  },
  {
   "cell_type": "code",
   "execution_count": null,
   "id": "c9ef7355",
   "metadata": {
    "vscode": {
     "languageId": "plaintext"
    }
   },
   "outputs": [],
   "source": [
    "# 5. Bond Portfolio Valuation\n",
    "\n",
    "\n",
    "# 5.2 Build stressed zero curves using EWMA shocks\n",
    "base_rates = df_dec.iloc[-1].values\n",
    "zc_up   = ZeroCurve(tenors, base_rates + shocks_ewma[\"ewma_up\"].values)\n",
    "zc_down = ZeroCurve(tenors, base_rates + shocks_ewma[\"ewma_down\"].values)\n",
    "\n",
    "# 5.3 Fixed‐rate bond class (from earlier)\n",
    "class FixedRateBond:\n",
    "    def __init__(self, issue, maturity, coupon, freq=2, par=1000000):\n",
    "        self.issue, self.maturity = pd.to_datetime(issue), pd.to_datetime(maturity)\n",
    "        self.coupon, self.freq, self.par = coupon, freq, par\n",
    "    def cashflows(self):\n",
    "        step = int(12/self.freq)\n",
    "        dates = pd.date_range(self.issue + pd.DateOffset(months=step),\n",
    "                              self.maturity, freq=f\"{step}ME\")\n",
    "        cfs = [self.par*self.coupon/self.freq]*len(dates)\n",
    "        cfs[-1] += self.par\n",
    "        return list(zip(dates, cfs))\n",
    "    def pv(self, curve, today):\n",
    "        return sum(amt * curve.discount_factor((dt-today).days/365)\n",
    "                   for dt, amt in self.cashflows())\n",
    "\n",
    "# 5.4 Define portfolio\n",
    "today = df_dec.index[-1]\n",
    "bonds = [\n",
    "    FixedRateBond(today, today + pd.DateOffset(years=2), 0.02),\n",
    "    FixedRateBond(today, today + pd.DateOffset(years=5), 0.035),\n",
    "    FixedRateBond(today, today + pd.DateOffset(years=10), 0.03),\n",
    "]\n",
    "\n",
    "# 5.5 PV under Base, Up, Down\n",
    "results = []\n",
    "for name, zc in [(\"Base\", zc_base), (\"Up\", zc_up), (\"Down\", zc_down)]:\n",
    "    pvs = [b.pv(zc, today) for b in bonds]\n",
    "    results.append([name] + pvs + [sum(pvs)])\n",
    "cols = [\"Scenario\", \"Bond1\", \"Bond2\", \"Bond3\", \"Portfolio PV\"]\n",
    "pv_df = pd.DataFrame(results, columns=cols).round(2)\n",
    "print(pv_df)\n"
   ]
  },
  {
   "cell_type": "code",
   "execution_count": null,
   "id": "fa6b8925",
   "metadata": {
    "vscode": {
     "languageId": "plaintext"
    }
   },
   "outputs": [],
   "source": []
  }
 ],
 "metadata": {
  "language_info": {
   "name": "python"
  }
 },
 "nbformat": 4,
 "nbformat_minor": 5
}
